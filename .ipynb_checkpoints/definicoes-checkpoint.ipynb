{
 "cells": [
  {
   "cell_type": "markdown",
   "metadata": {},
   "source": [
    "## Definições Úteis"
   ]
  },
  {
   "cell_type": "markdown",
   "metadata": {},
   "source": [
    "##### Par\n",
    "\n",
    "$\\textit{Def:}$ Se x é par, então $x=2k$, com k $\\in \\mathbb{Z}$\n",
    "\n",
    "##### Ímpar\n",
    "\n",
    "$\\textit{Def:}$ Se x é par, então $x=2k+1$, com k $\\in \\mathbb{Z}$\n"
   ]
  },
  {
   "cell_type": "markdown",
   "metadata": {},
   "source": [
    "##### Número Racional\n",
    "\n",
    "$\\textit{Def:}$ Se x é racional, então $x=m/n$, com m, n $\\in \\mathbb{Z}$\n",
    "\n",
    "$\\textit{Propriedade:}$ Se x é racional, então $x=m/n$, com m, n inteiros e $\\textbf{primos entre si}$"
   ]
  },
  {
   "cell_type": "markdown",
   "metadata": {},
   "source": [
    "##### Continuidade\n",
    "\n",
    "$\\textit{Def:}$ Uma função $f: \\mathbb{R} \\to \\mathbb{R}$ é continua em $a \\in \\mathbb{R}$ quando, para todo $\\epsilon >0$, existe $\\delta>0$ tal que $\\forall{x}$, se $\\mid x-a \\mid < \\delta$, então $\\mid f(x) - f(a) \\mid < \\epsilon$"
   ]
  },
  {
   "cell_type": "markdown",
   "metadata": {},
   "source": [
    "### Números Naturais"
   ]
  },
  {
   "cell_type": "code",
   "execution_count": null,
   "metadata": {
    "collapsed": true
   },
   "outputs": [],
   "source": []
  },
  {
   "cell_type": "code",
   "execution_count": null,
   "metadata": {
    "collapsed": true
   },
   "outputs": [],
   "source": []
  }
 ],
 "metadata": {
  "anaconda-cloud": {},
  "kernelspec": {
   "display_name": "Python 3",
   "language": "python",
   "name": "python3"
  },
  "language_info": {
   "codemirror_mode": {
    "name": "ipython",
    "version": 3
   },
   "file_extension": ".py",
   "mimetype": "text/x-python",
   "name": "python",
   "nbconvert_exporter": "python",
   "pygments_lexer": "ipython3",
   "version": "3.5.2"
  }
 },
 "nbformat": 4,
 "nbformat_minor": 1
}
