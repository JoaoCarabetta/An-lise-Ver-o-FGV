{
 "cells": [
  {
   "cell_type": "markdown",
   "metadata": {},
   "source": [
    "## Definições Úteis"
   ]
  },
  {
   "cell_type": "markdown",
   "metadata": {},
   "source": [
    "##### Par\n",
    "\n",
    "$\\textit{Def:}$ Se x é par, então $x=2k$, com k $\\in \\mathbb{Z}$\n",
    "\n",
    "##### Ímpar\n",
    "\n",
    "$\\textit{Def:}$ Se x é par, então $x=2k+1$, com k $\\in \\mathbb{Z}$\n"
   ]
  },
  {
   "cell_type": "markdown",
   "metadata": {},
   "source": [
    "##### Número Racional\n",
    "\n",
    "$\\textit{Def:}$ Se x é racional, então $x=m/n$, com m, n $\\in \\mathbb{Z}$\n",
    "\n",
    "$\\textit{Propriedade:}$ Se x é racional, então $x=m/n$, com m, n inteiros e $\\textbf{primos entre si}$"
   ]
  },
  {
   "cell_type": "markdown",
   "metadata": {},
   "source": [
    "##### Continuidade\n",
    "\n",
    "$\\textit{Def:}$ Uma função $f: \\mathbb{R} \\to \\mathbb{R}$ é continua em $a \\in \\mathbb{R}$ quando, para todo $\\epsilon >0$, existe $\\delta>0$ tal que $\\forall{x}$, se $\\mid x-a \\mid < \\delta$, então $\\mid f(x) - f(a) \\mid < \\epsilon$"
   ]
  },
  {
   "cell_type": "markdown",
   "metadata": {},
   "source": [
    "### Números Naturais"
   ]
  },
  {
   "cell_type": "markdown",
   "metadata": {},
   "source": [
    "$\\textit{Def:}$ ($\\mathbb{N}$, $s:\\mathbb{N} \\to \\mathbb{N}$)\n",
    "\n",
    "$\\textit{Exemplo:}$ $s(1)=2$, $s(3)=4$"
   ]
  },
  {
   "cell_type": "markdown",
   "metadata": {},
   "source": [
    "$\\textit{Axiomas de Peano:}$ \n",
    "\n",
    "1. $s:\\mathbb{N} \\to \\mathbb{N}$ - *Todo número natural tem um único sucessor*\n",
    "\n",
    "2. $m \\neq n \\implies s(m) \\neq s(n)$ - *Numeros naturais diferentes têm sucessores diferentes*\n",
    "\n",
    "3. $Im(s) = \\mathbb{N} - \\{ 1 \\}$ - *Existe um único número natural, chamado um e representado pelo símbolo 1, que não é sucessor de nenhum outro*\n",
    "\n",
    "4. ***Axioma da Indução*** \n",
    "\n",
    "&nbsp;&nbsp;&nbsp;&nbsp;&nbsp;&nbsp; Se $\\{ X \\subset \\mathbb{N}\\}$. Se $1 \\in X$ e $n \\in X \\implies (n+1) \\in X$ são verdadeiros, então $X=\\mathbb{N}$\n",
    "\n",
    "&nbsp;&nbsp;&nbsp;&nbsp;&nbsp;&nbsp; *Seja X um conjunto de números naturais (i.e., $X \\subset \\mathbb{N}$). Se $1 \\in X$ e se, além disso, o sucessor de todo elemento de X ainda pertence a X, então $X=\\mathbb{N}$* "
   ]
  },
  {
   "cell_type": "markdown",
   "metadata": {},
   "source": [
    "##### Adição\n",
    "$\\textit{Def:}$\n",
    "\n",
    "* $n+1$ = sucessor de $n$\n",
    "* $n+(p+1) = (n+p)+1$\n",
    "\n",
    "##### Multiplicação\n",
    "$\\textit{Def:}$\n",
    "\n",
    "* $n\\cdot 1$ = $n$\n",
    "* $n(p+1) = np+n$\n",
    "\n",
    "##### Ordem\n",
    "$\\textit{Def:}$ Dados $m, n \\in \\mathbb{N}$, $m<n$ implica que existe algum $p \\in \\mathbb{N}$ tal que $n=m+p$"
   ]
  },
  {
   "cell_type": "code",
   "execution_count": null,
   "metadata": {
    "collapsed": true
   },
   "outputs": [],
   "source": []
  }
 ],
 "metadata": {
  "anaconda-cloud": {},
  "kernelspec": {
   "display_name": "Python 3",
   "language": "python",
   "name": "python3"
  },
  "language_info": {
   "codemirror_mode": {
    "name": "ipython",
    "version": 3
   },
   "file_extension": ".py",
   "mimetype": "text/x-python",
   "name": "python",
   "nbconvert_exporter": "python",
   "pygments_lexer": "ipython3",
   "version": "3.5.2"
  }
 },
 "nbformat": 4,
 "nbformat_minor": 1
}
